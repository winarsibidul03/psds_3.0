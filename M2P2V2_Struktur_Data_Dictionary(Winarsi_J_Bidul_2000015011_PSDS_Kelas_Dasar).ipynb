{
  "nbformat": 4,
  "nbformat_minor": 0,
  "metadata": {
    "colab": {
      "name": "M2P2V2_Struktur_Data_Dictionary(Winarsi J. Bidul 2000015011_PSDS Kelas Dasar).ipynb",
      "provenance": [],
      "collapsed_sections": [],
      "toc_visible": true,
      "include_colab_link": true
    },
    "kernelspec": {
      "display_name": "Python 3",
      "name": "python3"
    }
  },
  "cells": [
    {
      "cell_type": "markdown",
      "metadata": {
        "id": "view-in-github",
        "colab_type": "text"
      },
      "source": [
        "<a href=\"https://colab.research.google.com/github/winarsibidul03/psds_3.0/blob/main/M2P2V2_Struktur_Data_Dictionary(Winarsi_J_Bidul_2000015011_PSDS_Kelas_Dasar).ipynb\" target=\"_parent\"><img src=\"https://colab.research.google.com/assets/colab-badge.svg\" alt=\"Open In Colab\"/></a>"
      ]
    },
    {
      "cell_type": "markdown",
      "metadata": {
        "id": "a9v19TM59aI5"
      },
      "source": [
        "**NAMA : WINARSI J. BIDUL**\n",
        "\n",
        "**NIM : 2000015011**\n",
        "\n",
        "**KELAS DASAR**"
      ]
    },
    {
      "cell_type": "markdown",
      "metadata": {
        "id": "ESNVpXD09brz"
      },
      "source": [
        "#Dictionary"
      ]
    },
    {
      "cell_type": "markdown",
      "metadata": {
        "id": "B6-h_zyQ9mpd"
      },
      "source": [
        "Dictionary pada phyton adalah kumpulan pasangan kunci-nilai (pair of key-value) yang bersifat tidak berurutan. Dictionary dapat digunakan untuk menyimpan data kecil hingga besar. Untuk mengakses datanya, kita harus mengetahui kuncinya (key). Pada Phyton, dictionary didefinisikan dengan kurawal dan tambahan definisi berikut :\n",
        "*   Setiap elemen pair key-value dipisahkan  denga koma(').\n",
        "*   Key dan Value dipisahkan dengan titik dua (:).\n",
        "*   Key dan Value dapat berupa tipe variabel/obyek apapun.\n",
        "\n"
      ]
    },
    {
      "cell_type": "code",
      "metadata": {
        "id": "-JWoIGEb-RaP",
        "colab": {
          "base_uri": "https://localhost:8080/"
        },
        "outputId": "fbaf86cf-daf9-4af7-eb05-f86770eee623"
      },
      "source": [
        "L1 = [1,'dua',True,(2+3j),(2+3j)]\n",
        "L1"
      ],
      "execution_count": null,
      "outputs": [
        {
          "output_type": "execute_result",
          "data": {
            "text/plain": [
              "[1, 'dua', True, (2+3j), (2+3j)]"
            ]
          },
          "metadata": {},
          "execution_count": 14
        }
      ]
    },
    {
      "cell_type": "code",
      "metadata": {
        "id": "EkDciBgM_C7g",
        "colab": {
          "base_uri": "https://localhost:8080/"
        },
        "outputId": "9d3af4ab-9c04-4d81-e992-0cd405fb9c44"
      },
      "source": [
        "#Contoh Dictionary\n",
        "D1 = {1:'value','key':2}\n",
        "\n",
        "print (D1)"
      ],
      "execution_count": null,
      "outputs": [
        {
          "output_type": "stream",
          "name": "stdout",
          "text": [
            "{1: 'value', 'key': 2}\n"
          ]
        }
      ]
    },
    {
      "cell_type": "markdown",
      "metadata": {
        "id": "-oRyUZ4I_Lnl"
      },
      "source": [
        "##Latihan 1"
      ]
    },
    {
      "cell_type": "code",
      "metadata": {
        "id": "UkhTcezJ_Ord",
        "colab": {
          "base_uri": "https://localhost:8080/"
        },
        "outputId": "f05545cc-daa8-455c-f74f-ac3f0860bcdb"
      },
      "source": [
        "#Buatlah Struktur data dictionary kalian sendiri\n",
        "A1 = {3:'nilai','kunci':4}\n",
        "\n",
        "print (A1)"
      ],
      "execution_count": null,
      "outputs": [
        {
          "output_type": "stream",
          "name": "stdout",
          "text": [
            "{3: 'nilai', 'kunci': 4}\n"
          ]
        }
      ]
    },
    {
      "cell_type": "code",
      "metadata": {
        "id": "bt6bj58YA1Ul",
        "colab": {
          "base_uri": "https://localhost:8080/"
        },
        "outputId": "7b4aa8e5-241f-42d3-b6fc-bc8a20ca25bb"
      },
      "source": [
        "L1[0]"
      ],
      "execution_count": null,
      "outputs": [
        {
          "output_type": "execute_result",
          "data": {
            "text/plain": [
              "1"
            ]
          },
          "metadata": {},
          "execution_count": 18
        }
      ]
    },
    {
      "cell_type": "code",
      "metadata": {
        "id": "TbPeGjRmA6C1",
        "colab": {
          "base_uri": "https://localhost:8080/"
        },
        "outputId": "8f777240-92b1-414d-8c69-8e852d239343"
      },
      "source": [
        "D1['key']"
      ],
      "execution_count": null,
      "outputs": [
        {
          "output_type": "execute_result",
          "data": {
            "text/plain": [
              "2"
            ]
          },
          "metadata": {},
          "execution_count": 19
        }
      ]
    },
    {
      "cell_type": "code",
      "metadata": {
        "id": "zCa7cvx1BCje",
        "colab": {
          "base_uri": "https://localhost:8080/"
        },
        "outputId": "68096b4e-1448-4151-80f8-ec6490f90178"
      },
      "source": [
        "#Memanggil elemen berdasarkan key\n",
        "print(\"D1['key'] = \", D1['key']);"
      ],
      "execution_count": null,
      "outputs": [
        {
          "output_type": "stream",
          "name": "stdout",
          "text": [
            "D1['key'] =  2\n"
          ]
        }
      ]
    },
    {
      "cell_type": "markdown",
      "metadata": {
        "id": "r8GjTNZiBXJF"
      },
      "source": [
        "Dictionary bukan termasuk dalam elementasi urutan (sequence) sehingga bisa dipanggil  dengan urutan indeks . Misalnya dalam conoth berikut dicoba dengan indeks 2, tetapi menghasilkan eror (Keyeror) karena tidak ada  kunci (key)2: "
      ]
    },
    {
      "cell_type": "code",
      "metadata": {
        "id": "j_pdmHy9Bb2X",
        "colab": {
          "base_uri": "https://localhost:8080/",
          "height": 180
        },
        "outputId": "165b304d-20da-4e64-8d56-b4876ea73bcb"
      },
      "source": [
        "#Nyobain error\n",
        "print(\"D1[2] = \", D1[2]);"
      ],
      "execution_count": null,
      "outputs": [
        {
          "output_type": "error",
          "ename": "KeyError",
          "evalue": "ignored",
          "traceback": [
            "\u001b[0;31m---------------------------------------------------------------------------\u001b[0m",
            "\u001b[0;31mKeyError\u001b[0m                                  Traceback (most recent call last)",
            "\u001b[0;32m<ipython-input-22-89fc6cbc4dcb>\u001b[0m in \u001b[0;36m<module>\u001b[0;34m()\u001b[0m\n\u001b[1;32m      1\u001b[0m \u001b[0;31m#Nyobain error\u001b[0m\u001b[0;34m\u001b[0m\u001b[0;34m\u001b[0m\u001b[0;34m\u001b[0m\u001b[0m\n\u001b[0;32m----> 2\u001b[0;31m \u001b[0mprint\u001b[0m\u001b[0;34m(\u001b[0m\u001b[0;34m\"D1[2] = \"\u001b[0m\u001b[0;34m,\u001b[0m \u001b[0mD1\u001b[0m\u001b[0;34m[\u001b[0m\u001b[0;36m2\u001b[0m\u001b[0;34m]\u001b[0m\u001b[0;34m)\u001b[0m\u001b[0;34m;\u001b[0m\u001b[0;34m\u001b[0m\u001b[0;34m\u001b[0m\u001b[0m\n\u001b[0m",
            "\u001b[0;31mKeyError\u001b[0m: 2"
          ]
        }
      ]
    },
    {
      "cell_type": "markdown",
      "metadata": {
        "id": "AQXO_45ZBwck"
      },
      "source": [
        "##Latihan 2"
      ]
    },
    {
      "cell_type": "code",
      "metadata": {
        "id": "HTZLiWfMBzK5",
        "colab": {
          "base_uri": "https://localhost:8080/"
        },
        "outputId": "45b95c38-db58-411e-dbd9-7a8c5852d29b"
      },
      "source": [
        "#Panggil salah satu key dan value pada dictionary yang kalian buat\n",
        "print(\"A1['kunci'] = \", A1['kunci']);"
      ],
      "execution_count": null,
      "outputs": [
        {
          "output_type": "stream",
          "name": "stdout",
          "text": [
            "A1['kunci'] =  4\n"
          ]
        }
      ]
    }
  ]
}