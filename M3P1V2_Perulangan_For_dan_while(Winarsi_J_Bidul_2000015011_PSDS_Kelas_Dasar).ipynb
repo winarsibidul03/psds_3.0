{
  "nbformat": 4,
  "nbformat_minor": 0,
  "metadata": {
    "colab": {
      "name": "M3P1V2_Perulangan_For_dan_while(Winarsi J. Bidul 2000015011_PSDS Kelas Dasar).ipynb",
      "provenance": [],
      "collapsed_sections": [],
      "toc_visible": true,
      "include_colab_link": true
    },
    "kernelspec": {
      "display_name": "Python 3",
      "name": "python3"
    }
  },
  "cells": [
    {
      "cell_type": "markdown",
      "metadata": {
        "id": "view-in-github",
        "colab_type": "text"
      },
      "source": [
        "<a href=\"https://colab.research.google.com/github/winarsibidul03/psds_3.0/blob/main/M3P1V2_Perulangan_For_dan_while(Winarsi_J_Bidul_2000015011_PSDS_Kelas_Dasar).ipynb\" target=\"_parent\"><img src=\"https://colab.research.google.com/assets/colab-badge.svg\" alt=\"Open In Colab\"/></a>"
      ]
    },
    {
      "cell_type": "markdown",
      "metadata": {
        "id": "P1w7ME1M3ano"
      },
      "source": [
        "**NAMA : WINARSI J. BIDUL**\n",
        "\n",
        "**NIM : 2000015011**\n",
        "\n",
        "**KELAS DASAR**"
      ]
    },
    {
      "cell_type": "markdown",
      "metadata": {
        "id": "_BbZ_UF63ycC"
      },
      "source": [
        "#Looping / Perulangan"
      ]
    },
    {
      "cell_type": "markdown",
      "metadata": {
        "id": "A6qgHsaH31bt"
      },
      "source": [
        "Python menyediakan dua statement untuk melakukan proses perulangan yaitu for dan while. Diantara kedua statement ini, secara umum for lebih banyak digunakan dari pada while"
      ]
    },
    {
      "cell_type": "markdown",
      "metadata": {
        "id": "AcX7gC0u4ADR"
      },
      "source": [
        "#For Loop"
      ]
    },
    {
      "cell_type": "markdown",
      "metadata": {
        "id": "uzdwLzZf9Upj"
      },
      "source": [
        "Perlangan ```for``` digunakan untuk melakukan Iterasi dalam ```squence``` sepert ```list```, ```tuple```, ```string```, ```array``` atau objek yang dapat diiterasi lainnya."
      ]
    },
    {
      "cell_type": "markdown",
      "metadata": {
        "id": "WjOM21Th4VAU"
      },
      "source": [
        "**For Loop Syntax**\n",
        "\n",
        "```\n",
        "for val in sequence:\n",
        "    loop body\n",
        "```"
      ]
    },
    {
      "cell_type": "markdown",
      "metadata": {
        "id": "WomrvSBN4gkR"
      },
      "source": [
        "For Loop Flowchart\n",
        "\n",
        "![image.png](data:image/png;base64,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)\n",
        "\n",
        "Example: Python for loop"
      ]
    },
    {
      "cell_type": "code",
      "metadata": {
        "colab": {
          "base_uri": "https://localhost:8080/"
        },
        "id": "eHO_hl5b4rq6",
        "outputId": "52831a65-4444-4389-a272-6814c652e76a"
      },
      "source": [
        "# Program untuk menghitung jumlah semua angka dalam sebuah list\n",
        "L1 = [2, 4, 5, 7, 9 ]\n",
        "jumlah = 0\n",
        "\n",
        "#Iterasi di dalam List\n",
        "for i in L1:\n",
        "  jumlah = jumlah + i\n",
        "\n",
        "print(jumlah)"
      ],
      "execution_count": null,
      "outputs": [
        {
          "output_type": "stream",
          "name": "stdout",
          "text": [
            "27\n"
          ]
        }
      ]
    },
    {
      "cell_type": "markdown",
      "metadata": {
        "id": "BU_swT3941fP"
      },
      "source": [
        "##The Range() function"
      ]
    },
    {
      "cell_type": "code",
      "metadata": {
        "colab": {
          "base_uri": "https://localhost:8080/"
        },
        "id": "q-U5Sq_R42W1",
        "outputId": "bf93c3b4-7a2f-4cbe-db38-a528104fb3a8"
      },
      "source": [
        "# Program untuk melakukan iterasi didunia list melalui indeks\n",
        "minuman =[\"teh\", \"boba\", \"kopi\", \"susu\"]\n",
        "p = len(minuman)\n",
        "\n",
        "#Iterasi di dalam list melalui indeks\n",
        "for i in range(p):\n",
        "  print(minuman[i])"
      ],
      "execution_count": null,
      "outputs": [
        {
          "output_type": "stream",
          "name": "stdout",
          "text": [
            "teh\n",
            "boba\n",
            "kopi\n",
            "susu\n"
          ]
        }
      ]
    },
    {
      "cell_type": "markdown",
      "metadata": {
        "id": "4vhFQA-Z5AK8"
      },
      "source": [
        "#For Loop with Else"
      ]
    },
    {
      "cell_type": "code",
      "metadata": {
        "colab": {
          "base_uri": "https://localhost:8080/"
        },
        "id": "63MrFREM5BKa",
        "outputId": "d8ce9faa-529f-4164-a709-62dd9afd8cb5"
      },
      "source": [
        "#Contoh for Loop menggunakan else\n",
        "for i in range(p):\n",
        "  print(minuman[i])\n",
        "else:\n",
        "  print(\"Elemen sudah habis\")"
      ],
      "execution_count": null,
      "outputs": [
        {
          "output_type": "stream",
          "name": "stdout",
          "text": [
            "teh\n",
            "boba\n",
            "kopi\n",
            "susu\n",
            "Elemen sudah habis\n"
          ]
        }
      ]
    },
    {
      "cell_type": "markdown",
      "metadata": {
        "id": "FmPK995t5H0f"
      },
      "source": [
        "## latihan 1"
      ]
    },
    {
      "cell_type": "markdown",
      "metadata": {
        "id": "my1dLwvi5PlQ"
      },
      "source": [
        "Diberikan ```list_tagihan```. Kamu diminta untuuk menghitung jumlah tagihan!. Gunakan looping ```for``` untuk menyelesaikan tugas ini!\n",
        "\n",
        "Simpan Hasilnya pada variabel ```total_tagihan!```\n",
        "\n",
        "```\n",
        "list_tagihan = [50000, 75000, -150000, 125000, 300000, -50000, 200000]\n",
        "```"
      ]
    },
    {
      "cell_type": "code",
      "metadata": {
        "id": "BEsTyjNQ5K58",
        "colab": {
          "base_uri": "https://localhost:8080/"
        },
        "outputId": "6d177ce5-3bfa-4955-da91-55ef12796677"
      },
      "source": [
        "list_tagihan = [50000, 75000, -150000, 125000, 300000, -50000, 200000]\n",
        "total_tagihan = 0\n",
        "\n",
        "for tagihan in list_tagihan: # Untuk setiap tagihan dalam list_tagihan\n",
        "  total_tagihan += tagihan # Tambahkan taighan ke total_tagihan\n",
        "print(total_tagihan)"
      ],
      "execution_count": 1,
      "outputs": [
        {
          "output_type": "stream",
          "name": "stdout",
          "text": [
            "550000\n"
          ]
        }
      ]
    },
    {
      "cell_type": "markdown",
      "metadata": {
        "id": "O1n0aaNO5YX0"
      },
      "source": [
        "#While Loop"
      ]
    },
    {
      "cell_type": "markdown",
      "metadata": {
        "id": "D6Xzdp_j5jVu"
      },
      "source": [
        "While loop pada python digunakan untuk melakukan iterasi pada blok kode selama nilai dari ```test expression``` adalah ```true```, "
      ]
    },
    {
      "cell_type": "markdown",
      "metadata": {
        "id": "rO6gAUiC5nm9"
      },
      "source": [
        "**Syntax of while Loop in python:**"
      ]
    },
    {
      "cell_type": "markdown",
      "metadata": {
        "id": "a6AZFInh5rv7"
      },
      "source": [
        "```\n",
        "while test_expression:\n",
        "    Body of while\n",
        "```"
      ]
    },
    {
      "cell_type": "markdown",
      "metadata": {
        "id": "NCG7kXke51XL"
      },
      "source": [
        "While Loop Flowchart\n",
        "\n",
        "![image.png](data:image/png;base64,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)\n",
        "\n",
        "Example: Python while Loop"
      ]
    },
    {
      "cell_type": "code",
      "metadata": {
        "colab": {
          "base_uri": "https://localhost:8080/"
        },
        "id": "QG7ZOFnn59Jg",
        "outputId": "f3be8440-dfc6-42c6-f12d-bef9e5bd507f"
      },
      "source": [
        "# Program untuk menjumlahkan semua\n",
        "# bilangan asli hingga suku ke-n\n",
        "# jum = 1+2+3...+n\n",
        "\n",
        "n = 10\n",
        "jumlah = 0\n",
        "i = 1\n",
        "\n",
        "while i<= n:\n",
        "  jumlah = jumlah + i\n",
        "  i = i + 1\n",
        "\n",
        "print (jumlah)"
      ],
      "execution_count": null,
      "outputs": [
        {
          "output_type": "stream",
          "name": "stdout",
          "text": [
            "55\n"
          ]
        }
      ]
    },
    {
      "cell_type": "markdown",
      "metadata": {
        "id": "cc0RrNLi6ph2"
      },
      "source": [
        "#While Looop with Else"
      ]
    },
    {
      "cell_type": "markdown",
      "metadata": {
        "id": "GpjdWeQb6uVf"
      },
      "source": [
        "sama dengan ```for``` loop kita juga akan dapat mengkombinasikan ```while``` loop dengan blok ```else```.\n",
        "\n",
        "Bagian ```else``` akan dieksekusi jika nilai  pada ```test expression`` pada ```while loop``` bernilai ```False```. \n",
        "\n",
        "Perhatikan Contoh berikut :\n"
      ]
    },
    {
      "cell_type": "code",
      "metadata": {
        "colab": {
          "base_uri": "https://localhost:8080/"
        },
        "id": "T2aiHWeC61qb",
        "outputId": "2b9cd318-3662-4c4c-c2a1-c75e2b6390a9"
      },
      "source": [
        "jum = 0\n",
        "i = 1\n",
        "while i <= n:\n",
        "  jum = jum + i\n",
        "  i = i + 1\n",
        "else:\n",
        "  print(jum) #Dieksekusi diluar looping "
      ],
      "execution_count": null,
      "outputs": [
        {
          "output_type": "stream",
          "name": "stdout",
          "text": [
            "55\n"
          ]
        }
      ]
    },
    {
      "cell_type": "markdown",
      "metadata": {
        "id": "mMTCeZid6v65"
      },
      "source": [
        "##Latihan 2"
      ]
    },
    {
      "cell_type": "markdown",
      "metadata": {
        "id": "e-4NQTuq7Ax5"
      },
      "source": [
        "Diberikan list ```tagihan```. Hitunglah ```total_tagihan``` menggunakan ```while loop```.\n",
        "\n",
        "```\n",
        "tagihan = [50000, 75000, 125000, 300000, 200000]\n",
        "```"
      ]
    },
    {
      "cell_type": "code",
      "metadata": {
        "id": "B4uxo_K-7Ckz",
        "colab": {
          "base_uri": "https://localhost:8080/"
        },
        "outputId": "d1f6c2fe-66e3-4844-e1d2-6217a5453bd4"
      },
      "source": [
        "tagihan = [50000, 75000, 125000, 300000, 200000] #Tagihan \n",
        "#Dengan menggunkan while loop\n",
        "i= 0 \n",
        "jumlah_tagihan = len(tagihan)\n",
        "total_tagihan = 0\n",
        "while i< jumlah_tagihan:\n",
        "    total_tagihan += tagihan[i]\n",
        "    i += 1\n",
        "print(total_tagihan)\n",
        "\n",
        "tagihan = [50000, 75000, 125000, 300000, 200000] # Tagihan \n",
        "#Tanpa menggunakan while loop\n",
        "total_tagihan = tagihan[0]+tagihan[1]+tagihan[2]+tagihan[3]+tagihan[4]\n",
        "print(total_tagihan)"
      ],
      "execution_count": 2,
      "outputs": [
        {
          "output_type": "stream",
          "name": "stdout",
          "text": [
            "750000\n",
            "750000\n"
          ]
        }
      ]
    }
  ]
}