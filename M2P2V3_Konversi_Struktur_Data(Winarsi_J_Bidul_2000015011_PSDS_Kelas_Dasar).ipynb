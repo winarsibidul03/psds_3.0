{
  "nbformat": 4,
  "nbformat_minor": 0,
  "metadata": {
    "colab": {
      "name": "M2P2V3_Konversi Struktur Data(Winarsi J. Bidul 2000015011_PSDS Kelas Dasar).ipynb",
      "provenance": [],
      "collapsed_sections": [],
      "toc_visible": true,
      "include_colab_link": true
    },
    "kernelspec": {
      "display_name": "Python 3",
      "name": "python3"
    }
  },
  "cells": [
    {
      "cell_type": "markdown",
      "metadata": {
        "id": "view-in-github",
        "colab_type": "text"
      },
      "source": [
        "<a href=\"https://colab.research.google.com/github/winarsibidul03/psds_3.0/blob/main/M2P2V3_Konversi_Struktur_Data(Winarsi_J_Bidul_2000015011_PSDS_Kelas_Dasar).ipynb\" target=\"_parent\"><img src=\"https://colab.research.google.com/assets/colab-badge.svg\" alt=\"Open In Colab\"/></a>"
      ]
    },
    {
      "cell_type": "markdown",
      "metadata": {
        "id": "n_bxpVRaDL-y"
      },
      "source": [
        "**NAMA : WINARSI J. BIDUL**\n",
        "\n",
        "**NIM : 2000015011**\n",
        "\n",
        "**KELAS DASAR**"
      ]
    },
    {
      "cell_type": "markdown",
      "metadata": {
        "id": "vnt6fEKxDVWP"
      },
      "source": [
        "#Konversi Struktur Data"
      ]
    },
    {
      "cell_type": "markdown",
      "metadata": {
        "id": "SoYFaL1pDZ9U"
      },
      "source": [
        "Fungsi yang mengubah atau mengkonversi struktur data :\n",
        "\n",
        "a. ```list()``` : Untuk mengubah menjadi List\n",
        "\n",
        "b. ```tuple()``` : Untuk mengubah menjadi tuple\n",
        "\n",
        "c. ```set()``` : Untuk mengubah menjadi set\n",
        "\n",
        "d. ```dict()``` : Untuk mengubah menjadi dictionary"
      ]
    },
    {
      "cell_type": "markdown",
      "metadata": {
        "id": "Of1_5U3vD8YA"
      },
      "source": [
        "##Mengkonversi Tipe data list :"
      ]
    },
    {
      "cell_type": "code",
      "metadata": {
        "id": "clqlsycAD_1n"
      },
      "source": [
        "#Membuat 2 List\n",
        "L1 = [1, 2, 3, 4]\n",
        "L2 = [5, 6, 7, 8]"
      ],
      "execution_count": null,
      "outputs": []
    },
    {
      "cell_type": "code",
      "metadata": {
        "id": "obQPOmjtEE87",
        "colab": {
          "base_uri": "https://localhost:8080/"
        },
        "outputId": "aa84478b-e11d-447b-bc77-bdaa48037c10"
      },
      "source": [
        "#Mengkonversi struktur data list\n",
        "k_tuple = tuple(L1)\n",
        "k_set = set(L2)\n",
        "k_dict = dict(zip(L1, L2))\n",
        "\n",
        "#Melihat data yang telah dikonversi\n",
        "print(k_tuple)\n",
        "print(k_set)\n",
        "print(k_dict)"
      ],
      "execution_count": null,
      "outputs": [
        {
          "output_type": "stream",
          "name": "stdout",
          "text": [
            "(1, 2, 3, 4)\n",
            "{8, 5, 6, 7}\n",
            "{1: 5, 2: 6, 3: 7, 4: 8}\n"
          ]
        }
      ]
    },
    {
      "cell_type": "markdown",
      "metadata": {
        "id": "oB0Ht5_VEQWx"
      },
      "source": [
        "##Mengkonversi Tipe Data Tuple"
      ]
    },
    {
      "cell_type": "code",
      "metadata": {
        "id": "Hto3sj4mEUrB"
      },
      "source": [
        "#Membuat dua tuple\n",
        "T1 = (1, 2, 3, 4)\n",
        "T2 = (5, 6, 7, 8)"
      ],
      "execution_count": null,
      "outputs": []
    },
    {
      "cell_type": "code",
      "metadata": {
        "id": "qIw8E05HEV4I",
        "colab": {
          "base_uri": "https://localhost:8080/"
        },
        "outputId": "ae1af259-87d4-457c-f048-be6d27caf2ca"
      },
      "source": [
        "#Mengkonversi struktur data tuple\n",
        "k_list = list(T1)\n",
        "k_set = set(T2)\n",
        "k_dict = dict(zip(T1, T2))\n",
        "\n",
        "#Melihat data yang telah dikonversi\n",
        "print(k_list)\n",
        "print(k_set)\n",
        "print(k_dict)"
      ],
      "execution_count": null,
      "outputs": [
        {
          "output_type": "stream",
          "name": "stdout",
          "text": [
            "[1, 2, 3, 4]\n",
            "{8, 5, 6, 7}\n",
            "{1: 5, 2: 6, 3: 7, 4: 8}\n"
          ]
        }
      ]
    },
    {
      "cell_type": "markdown",
      "metadata": {
        "id": "D_cUaUGJFKL1"
      },
      "source": [
        "##Mengkonversi Tipe data Set"
      ]
    },
    {
      "cell_type": "code",
      "metadata": {
        "id": "hXZ7V1KtFRBH"
      },
      "source": [
        "#Membuat dua set\n",
        "S1 = (1, 2, 3, 4)\n",
        "S2 = (5, 6, 7, 8)"
      ],
      "execution_count": null,
      "outputs": []
    },
    {
      "cell_type": "code",
      "metadata": {
        "id": "CH8j3X78FXpO",
        "colab": {
          "base_uri": "https://localhost:8080/"
        },
        "outputId": "9945a82c-3a50-45a1-ddf0-3ce7171099ea"
      },
      "source": [
        "#Mengkonversi struktur data set\n",
        "k_list = list(S1)\n",
        "k_tuple = tuple(S2)\n",
        "k_dict = dict(zip(S1, S2))\n",
        "\n",
        "#Melihat data yang telah dikonversi\n",
        "print(k_list)\n",
        "print(k_tuple)\n",
        "print(k_dict)"
      ],
      "execution_count": null,
      "outputs": [
        {
          "output_type": "stream",
          "name": "stdout",
          "text": [
            "[1, 2, 3, 4]\n",
            "(5, 6, 7, 8)\n",
            "{1: 5, 2: 6, 3: 7, 4: 8}\n"
          ]
        }
      ]
    },
    {
      "cell_type": "markdown",
      "metadata": {
        "id": "IagDDRjwGCdc"
      },
      "source": [
        "##Mengkonversi Tipe Data List"
      ]
    },
    {
      "cell_type": "code",
      "metadata": {
        "id": "thrJsQVLGHNX"
      },
      "source": [
        "#Membuat Dictionary\n",
        "D = {\n",
        "    \"nama\": \"Andi\",\n",
        "    \"alamat\": \"Yogyakarta\",\n",
        "    \"umur\": 20\n",
        "}"
      ],
      "execution_count": null,
      "outputs": []
    },
    {
      "cell_type": "code",
      "metadata": {
        "id": "3CJ21ZQQGQmX",
        "colab": {
          "base_uri": "https://localhost:8080/"
        },
        "outputId": "b30e7b0e-8fb0-4d64-f3e8-228b134232f8"
      },
      "source": [
        "# Mengkonversi Struktur data Dictionary dari key dan value-nya\n",
        "k_list = list(D.keys())\n",
        "k_tuple = tuple(D.values())\n",
        "k_set = set(D.keys())\n",
        "\n",
        "#Melihat data yang telah dikonversi\n",
        "print(k_list)\n",
        "print(k_tuple)\n",
        "print(k_set)"
      ],
      "execution_count": null,
      "outputs": [
        {
          "output_type": "stream",
          "name": "stdout",
          "text": [
            "['nama', 'alamat', 'umur']\n",
            "('Andi', 'Yogyakarta', 20)\n",
            "{'alamat', 'umur', 'nama'}\n"
          ]
        }
      ]
    },
    {
      "cell_type": "markdown",
      "metadata": {
        "id": "J00b1ZAzGqzJ"
      },
      "source": [
        "#Latihan 1"
      ]
    },
    {
      "cell_type": "code",
      "metadata": {
        "id": "qgtbSq7XGvb4"
      },
      "source": [
        "#Lakukan konversi struktur data yang kalian buat pada notebook notebook\n",
        "#sebelumnya menjadi list, tuple, set dan dictionary (masing masingm satu) \n"
      ],
      "execution_count": null,
      "outputs": []
    },
    {
      "cell_type": "markdown",
      "metadata": {
        "id": "0IPTPXm8NFEc"
      },
      "source": [
        "Mengkonversi Tipe data list "
      ]
    },
    {
      "cell_type": "code",
      "metadata": {
        "id": "wUuknqR0M9h3"
      },
      "source": [
        "#membuat list\n",
        "A1 = [2, 4, 6, 8]\n",
        "A2 = [1, 3, 5, 7]\n",
        "\n",
        "#Mengkonversi struktur data list\n",
        "k_tuple = tuple(A1)\n",
        "k_set = set(A2)\n",
        "k_dict = dict(zip(A1, A2))\n",
        "\n",
        "#Melihat data yang telah dikonversi\n",
        "print(k_tuple)\n",
        "print(k_set)\n",
        "print(k_dict)"
      ],
      "execution_count": null,
      "outputs": []
    },
    {
      "cell_type": "markdown",
      "metadata": {
        "id": "xAgjdLycNQG8"
      },
      "source": [
        "Mengkonversi Tipe data Tuple"
      ]
    },
    {
      "cell_type": "code",
      "metadata": {
        "id": "V2C0s3QYNWZN",
        "colab": {
          "base_uri": "https://localhost:8080/"
        },
        "outputId": "0a1b6673-4355-4b01-90d9-3cfee341a203"
      },
      "source": [
        "#membuat Tuple\n",
        "B1 = [2, 4, 6, 8]\n",
        "B2 = [1, 3, 5, 7]\n",
        "\n",
        "#Mengkonversi struktur data Tuple\n",
        "k_tuple = tuple(B1)\n",
        "k_set = set(B2)\n",
        "k_dict = dict(zip(B1, B2))\n",
        "\n",
        "#Melihat data yang telah dikonversi\n",
        "print(k_tuple)\n",
        "print(k_set)\n",
        "print(k_dict)"
      ],
      "execution_count": null,
      "outputs": [
        {
          "output_type": "stream",
          "name": "stdout",
          "text": [
            "(2, 4, 6, 8)\n",
            "{1, 3, 5, 7}\n",
            "{2: 1, 4: 3, 6: 5, 8: 7}\n"
          ]
        }
      ]
    },
    {
      "cell_type": "markdown",
      "metadata": {
        "id": "9iGys9wKN5Tf"
      },
      "source": [
        "Mengkonversi Tipe data Set"
      ]
    },
    {
      "cell_type": "code",
      "metadata": {
        "id": "W3utScCuOba-",
        "colab": {
          "base_uri": "https://localhost:8080/"
        },
        "outputId": "1ab9ce97-094f-4651-964e-84c6f5ab024b"
      },
      "source": [
        "#membuat Set\n",
        "C1 = [2, 4, 6, 8]\n",
        "C2 = [1, 3, 5, 7]\n",
        "\n",
        "#Mengkonversi struktur data Set\n",
        "k_tuple = tuple(C1)\n",
        "k_set = set(C2)\n",
        "k_dict = dict(zip(C1, C2))\n",
        "\n",
        "#Melihat data yang telah dikonversi\n",
        "print(k_tuple)\n",
        "print(k_set)\n",
        "print(k_dict)"
      ],
      "execution_count": null,
      "outputs": [
        {
          "output_type": "stream",
          "name": "stdout",
          "text": [
            "(2, 4, 6, 8)\n",
            "{1, 3, 5, 7}\n",
            "{2: 1, 4: 3, 6: 5, 8: 7}\n"
          ]
        }
      ]
    },
    {
      "cell_type": "markdown",
      "metadata": {
        "id": "GdqUV2spPat4"
      },
      "source": [
        "Mengkonversi Tipe data dictionary"
      ]
    },
    {
      "cell_type": "code",
      "metadata": {
        "id": "C0IpDPJ6PxG0"
      },
      "source": [
        "#Membuat Dictionary\n",
        "D = {\n",
        "    \"nama\": \"Asih\",\n",
        "    \"alamat\": \"Sulteng\",\n",
        "    \"umur\": 19\n",
        "}"
      ],
      "execution_count": null,
      "outputs": []
    },
    {
      "cell_type": "code",
      "metadata": {
        "id": "3IjJTz21QBbk",
        "colab": {
          "base_uri": "https://localhost:8080/"
        },
        "outputId": "8b1cc836-22b9-4163-806a-d69613b0fb61"
      },
      "source": [
        "# Mengkonversi Struktur data Dictionary dari key dan value-nya\n",
        "k_list = list(D.keys())\n",
        "k_tuple = tuple(D.values())\n",
        "k_set = set(D.keys())\n",
        "\n",
        "#Melihat data yang telah dikonversi\n",
        "print(k_list)\n",
        "print(k_tuple)\n",
        "print(k_set)"
      ],
      "execution_count": null,
      "outputs": [
        {
          "output_type": "stream",
          "name": "stdout",
          "text": [
            "['nama', 'alamat', 'umur']\n",
            "('Asih', 'Sulteng', 19)\n",
            "{'alamat', 'umur', 'nama'}\n"
          ]
        }
      ]
    }
  ]
}