{
  "nbformat": 4,
  "nbformat_minor": 0,
  "metadata": {
    "colab": {
      "name": "M2P2V4_Struktur_Data_String (Winarsi J. Bidul 2000015011_PSDS Kelas Dasar).ipynb",
      "provenance": [],
      "collapsed_sections": [],
      "toc_visible": true,
      "include_colab_link": true
    },
    "kernelspec": {
      "display_name": "Python 3",
      "name": "python3"
    }
  },
  "cells": [
    {
      "cell_type": "markdown",
      "metadata": {
        "id": "view-in-github",
        "colab_type": "text"
      },
      "source": [
        "<a href=\"https://colab.research.google.com/github/winarsibidul03/psds_3.0/blob/main/M2P2V4_Struktur_Data_String_(Winarsi_J_Bidul_2000015011_PSDS_Kelas_Dasar).ipynb\" target=\"_parent\"><img src=\"https://colab.research.google.com/assets/colab-badge.svg\" alt=\"Open In Colab\"/></a>"
      ]
    },
    {
      "cell_type": "markdown",
      "metadata": {
        "id": "yl0jrmTEHN_u"
      },
      "source": [
        "**NAMA : WINARSI J. BIDUL**\n",
        "\n",
        "**NIM : 2000015011**\n",
        "\n",
        "**KELAS DASAR**"
      ]
    },
    {
      "cell_type": "markdown",
      "metadata": {
        "id": "-Q5J5WkoHYmn"
      },
      "source": [
        "#String"
      ]
    },
    {
      "cell_type": "markdown",
      "metadata": {
        "id": "c4W4LRVCHZrM"
      },
      "source": [
        "String di deklarasikan  dengan di apit oleh tanda petik."
      ]
    },
    {
      "cell_type": "code",
      "metadata": {
        "id": "59utwz72Hdis",
        "colab": {
          "base_uri": "https://localhost:8080/"
        },
        "outputId": "21c70eb7-188b-4750-eb15-527ba18ed0f6"
      },
      "source": [
        "#Menampilkan string dengan fungsi print()\n",
        "print(\"Hello World!\")"
      ],
      "execution_count": null,
      "outputs": [
        {
          "output_type": "stream",
          "name": "stdout",
          "text": [
            "Hello World!\n"
          ]
        }
      ]
    },
    {
      "cell_type": "code",
      "metadata": {
        "id": "OUi5wGU3HiSw",
        "colab": {
          "base_uri": "https://localhost:8080/"
        },
        "outputId": "4a05bb34-d707-49e0-b712-12e588aac787"
      },
      "source": [
        "#Membuat variabel bertipe string\n",
        "A = \"Belajar Struktur data String\"\n",
        "print(A)"
      ],
      "execution_count": null,
      "outputs": [
        {
          "output_type": "stream",
          "name": "stdout",
          "text": [
            "Belajar Struktur data String\n"
          ]
        }
      ]
    },
    {
      "cell_type": "code",
      "metadata": {
        "id": "V2slzkIYHmlk",
        "colab": {
          "base_uri": "https://localhost:8080/"
        },
        "outputId": "38d5a260-20e9-441a-aacd-717f2247fe26"
      },
      "source": [
        "#Membuat variabel string multi-line dengan 3 tanda petik\n",
        "B = \"\"\"Belajar Phyton\n",
        "Pejuang data 3.0\n",
        "PSDS\n",
        "String\"\"\"\n",
        "print(B)"
      ],
      "execution_count": null,
      "outputs": [
        {
          "output_type": "stream",
          "name": "stdout",
          "text": [
            "Belajar Phyton\n",
            "Pejuang data 3.0\n",
            "PSDS\n",
            "String\n"
          ]
        }
      ]
    },
    {
      "cell_type": "code",
      "metadata": {
        "id": "VeyXWWQ6HrsR",
        "colab": {
          "base_uri": "https://localhost:8080/"
        },
        "outputId": "a3ff9e81-4134-4091-a96c-6177a02036bb"
      },
      "source": [
        "#Menampilkan karakter tertentu dalam string\n",
        "print(A[2])"
      ],
      "execution_count": null,
      "outputs": [
        {
          "output_type": "stream",
          "name": "stdout",
          "text": [
            "l\n"
          ]
        }
      ]
    },
    {
      "cell_type": "code",
      "metadata": {
        "id": "bTZw2X1jHw6-",
        "colab": {
          "base_uri": "https://localhost:8080/"
        },
        "outputId": "0b01f4e5-33d8-4e0a-b0c8-8ece6a0b15f0"
      },
      "source": [
        "#Slicing pada String\n",
        "A = \"Belajar Struktur data String\"\n",
        "print(A[:5])\n",
        "print(A[3:])\n",
        "print(A[-5:])\n",
        "print(A[4:9])"
      ],
      "execution_count": null,
      "outputs": [
        {
          "output_type": "stream",
          "name": "stdout",
          "text": [
            "Belaj\n",
            "ajar Struktur data String\n",
            "tring\n",
            "jar S\n"
          ]
        }
      ]
    },
    {
      "cell_type": "markdown",
      "metadata": {
        "id": "y7RzlGykH73P"
      },
      "source": [
        "##Latihan 1"
      ]
    },
    {
      "cell_type": "code",
      "metadata": {
        "id": "RXqkQqgMH_iA",
        "colab": {
          "base_uri": "https://localhost:8080/"
        },
        "outputId": "fb56447e-f271-4a87-b37f-fcf6617af0a1"
      },
      "source": [
        "#Buatlah variabel String lalu lakukan slicing dengan menghilangkan karakter pertama dan terakhir\n",
        "\n",
        "S = \"Setiap hari saya mengerjakan tugas kuliah\"\n",
        "print(S[6:])\n",
        "print(S[:-6])\n"
      ],
      "execution_count": 3,
      "outputs": [
        {
          "output_type": "stream",
          "name": "stdout",
          "text": [
            " hari saya mengerjakan tugas kuliah\n",
            "Setiap hari saya mengerjakan tugas \n"
          ]
        }
      ]
    },
    {
      "cell_type": "markdown",
      "metadata": {
        "id": "RkFgAP-JIGjY"
      },
      "source": [
        "#Memodifikasi String"
      ]
    },
    {
      "cell_type": "code",
      "metadata": {
        "id": "Wsp9GRZRIBeL",
        "colab": {
          "base_uri": "https://localhost:8080/",
          "height": 35
        },
        "outputId": "7031fdd4-e3ac-4b5c-bc5d-eb70c36ede05"
      },
      "source": [
        "# Upper()\n",
        "A.upper()"
      ],
      "execution_count": null,
      "outputs": [
        {
          "output_type": "execute_result",
          "data": {
            "application/vnd.google.colaboratory.intrinsic+json": {
              "type": "string"
            },
            "text/plain": [
              "'BELAJAR STRUKTUR DATA STRING'"
            ]
          },
          "metadata": {},
          "execution_count": 45
        }
      ]
    },
    {
      "cell_type": "code",
      "metadata": {
        "id": "ieNPoXR8JTn5",
        "colab": {
          "base_uri": "https://localhost:8080/",
          "height": 35
        },
        "outputId": "4dbde65d-e32e-4823-c0ef-ccde7e16ad46"
      },
      "source": [
        "#lower()\n",
        "A.lower()"
      ],
      "execution_count": null,
      "outputs": [
        {
          "output_type": "execute_result",
          "data": {
            "application/vnd.google.colaboratory.intrinsic+json": {
              "type": "string"
            },
            "text/plain": [
              "'belajar struktur data string'"
            ]
          },
          "metadata": {},
          "execution_count": 46
        }
      ]
    },
    {
      "cell_type": "code",
      "metadata": {
        "id": "J10ugL1sILKC",
        "colab": {
          "base_uri": "https://localhost:8080/",
          "height": 35
        },
        "outputId": "4861e53b-44d3-48b4-8f9a-ac3323077fec"
      },
      "source": [
        "# Strip()\n",
        "A.strip()"
      ],
      "execution_count": null,
      "outputs": [
        {
          "output_type": "execute_result",
          "data": {
            "application/vnd.google.colaboratory.intrinsic+json": {
              "type": "string"
            },
            "text/plain": [
              "'Belajar Struktur data String'"
            ]
          },
          "metadata": {},
          "execution_count": 47
        }
      ]
    },
    {
      "cell_type": "code",
      "metadata": {
        "id": "ItHk1T-zIO3X",
        "colab": {
          "base_uri": "https://localhost:8080/",
          "height": 35
        },
        "outputId": "7a9e3086-1458-4eaa-d424-bafe1cb349f7"
      },
      "source": [
        "# Replace()\n",
        "A.replace('l', 'd')"
      ],
      "execution_count": null,
      "outputs": [
        {
          "output_type": "execute_result",
          "data": {
            "application/vnd.google.colaboratory.intrinsic+json": {
              "type": "string"
            },
            "text/plain": [
              "'Bedajar Struktur data String'"
            ]
          },
          "metadata": {},
          "execution_count": 65
        }
      ]
    },
    {
      "cell_type": "code",
      "metadata": {
        "id": "EPgGgEo9ISEQ",
        "colab": {
          "base_uri": "https://localhost:8080/"
        },
        "outputId": "d17b4f76-e8e7-4d70-93a1-fcca6a9be7e7"
      },
      "source": [
        "#Split()\n",
        "A.split()"
      ],
      "execution_count": null,
      "outputs": [
        {
          "output_type": "execute_result",
          "data": {
            "text/plain": [
              "['Belajar', 'Struktur', 'data', 'String']"
            ]
          },
          "metadata": {},
          "execution_count": 48
        }
      ]
    },
    {
      "cell_type": "markdown",
      "metadata": {
        "id": "ZLyzUwzUIZpO"
      },
      "source": [
        "#Menggabugkan String"
      ]
    },
    {
      "cell_type": "code",
      "metadata": {
        "id": "6jhTFgsoIag8",
        "colab": {
          "base_uri": "https://localhost:8080/",
          "height": 35
        },
        "outputId": "97b244d0-5aaf-40da-cd68-ab7a16b95a16"
      },
      "source": [
        "A = \"Belajar Struktur data String\"\n",
        "B = \"Ppejuang Data 3.0\"\n",
        "A + \" \" + B "
      ],
      "execution_count": null,
      "outputs": [
        {
          "output_type": "execute_result",
          "data": {
            "application/vnd.google.colaboratory.intrinsic+json": {
              "type": "string"
            },
            "text/plain": [
              "'Belajar Struktur data String Ppejuang Data 3.0'"
            ]
          },
          "metadata": {},
          "execution_count": 49
        }
      ]
    },
    {
      "cell_type": "markdown",
      "metadata": {
        "id": "NvPq9O7bIfo1"
      },
      "source": [
        "##Latihan 2"
      ]
    },
    {
      "cell_type": "code",
      "metadata": {
        "id": "yzqKeEb6Iiup",
        "colab": {
          "base_uri": "https://localhost:8080/",
          "height": 35
        },
        "outputId": "3ff4b828-cf05-41b7-abad-58bf6ec3e507"
      },
      "source": [
        "#Ganti semua huruf vokal menjadi \"i\" pada string  yang telah kalian buat pada latihan 1\n",
        "\n",
        "A = S.replace('a', 'i')\n",
        "B = A.replace('e','i')\n",
        "B.replace('u','i')\n"
      ],
      "execution_count": 7,
      "outputs": [
        {
          "output_type": "execute_result",
          "data": {
            "application/vnd.google.colaboratory.intrinsic+json": {
              "type": "string"
            },
            "text/plain": [
              "'Sitiip hiri siyi mingirjikin tigis kiliih'"
            ]
          },
          "metadata": {},
          "execution_count": 7
        }
      ]
    }
  ]
}