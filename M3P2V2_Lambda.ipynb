{
  "nbformat": 4,
  "nbformat_minor": 0,
  "metadata": {
    "colab": {
      "name": "M3P2V2_Lambda.ipynb",
      "provenance": [],
      "collapsed_sections": [],
      "include_colab_link": true
    },
    "kernelspec": {
      "display_name": "Python 3",
      "name": "python3"
    }
  },
  "cells": [
    {
      "cell_type": "markdown",
      "metadata": {
        "id": "view-in-github",
        "colab_type": "text"
      },
      "source": [
        "<a href=\"https://colab.research.google.com/github/winarsibidul03/psds_3.0/blob/main/M3P2V2_Lambda.ipynb\" target=\"_parent\"><img src=\"https://colab.research.google.com/assets/colab-badge.svg\" alt=\"Open In Colab\"/></a>"
      ]
    },
    {
      "cell_type": "markdown",
      "metadata": {
        "id": "bbhM9MoRBd-R"
      },
      "source": [
        "**NAMA : WINARSI J. BIDUL**\n",
        "\n",
        "**NIM : 2000015011**\n",
        "\n",
        "**KELAS DASAR**"
      ]
    },
    {
      "cell_type": "markdown",
      "metadata": {
        "id": "ivup8S7TBtJ4"
      },
      "source": [
        "# Lambda"
      ]
    },
    {
      "cell_type": "markdown",
      "metadata": {
        "id": "rnfQTja5ByMB"
      },
      "source": [
        "Fungsi Lambda adalah fungsi anonim ```one line``` yang didefinisikan tanpa nama. Fungsi lambda dapat mengambil sejumlah ```argumen```, tetapi hanya dapat memiliki satu ```expression```. Sementara fungsi normal didefinisikan menggunakan kata kunci ```def```,  dalam python fungsi anonim didefinisikan menggunakan kata kunci lambda. \n",
        "\n",
        "Fungsi Lambda digunakan ketika fungsi sederhana hanya digunakan sekali atau untuk waktu yang singkat dalam kode kita. Penggunaannya yang paling umum adalah sebagai argumen untuk fungsi tingkat tinggi (fungsi yang menggunakan fungsi lain sebagai argumen)."
      ]
    },
    {
      "cell_type": "markdown",
      "metadata": {
        "id": "IOUEZ3UUB4V6"
      },
      "source": [
        "Lambda expression di python adalah sebuah ekspresi untuk membuat fungsi. \n",
        "\n",
        "Lambda sendiri berasal dari teori kalkulus, yakni lambda calculus yang dikenalkan olah Alonzo Church ditahun 1930. \n",
        "\n",
        "Berkat lambda, kita bisa membuat fungsi tanpa nama atau di kenal juga dengan anonymous function.\n",
        "\n",
        "Misalkan kita punya fungsi penjumlahan kuadrat seperti ini :"
      ]
    },
    {
      "cell_type": "code",
      "metadata": {
        "id": "lW0GWGwaB-Ls"
      },
      "source": [
        "def suqare_sum(x,y):\n",
        "  return x**2 + y**2"
      ],
      "execution_count": null,
      "outputs": []
    },
    {
      "cell_type": "markdown",
      "metadata": {
        "id": "gIzkvk49CRYP"
      },
      "source": [
        "Dengan Lambda, kita tidak perlu menggunakan def dan return, bahkan kita juga tidak perlu menuliskan namanya."
      ]
    },
    {
      "cell_type": "code",
      "metadata": {
        "colab": {
          "base_uri": "https://localhost:8080/"
        },
        "id": "a7ZYzH5TCSZC",
        "outputId": "cca82075-a3f3-4518-99a2-e5bc93f0e30f"
      },
      "source": [
        "lambda x,y : x**2 + y**2"
      ],
      "execution_count": null,
      "outputs": [
        {
          "output_type": "execute_result",
          "data": {
            "text/plain": [
              "<function __main__.<lambda>>"
            ]
          },
          "metadata": {},
          "execution_count": 2
        }
      ]
    },
    {
      "cell_type": "markdown",
      "metadata": {
        "id": "nCg84JqtCasB"
      },
      "source": [
        "#Menggunakan Lambda Expression"
      ]
    },
    {
      "cell_type": "markdown",
      "metadata": {
        "id": "ObnhcdEECg5-"
      },
      "source": [
        "Intinya, lambda digunakan untuk membuat fungsi dalam satu bari ekspresi. \n",
        "\n",
        "Ini adalah format untuk membuat fungsi lambda:\n"
      ]
    },
    {
      "cell_type": "markdown",
      "metadata": {
        "id": "E_Hun_xNCuX-"
      },
      "source": [
        "![image.png](data:image/png;base64,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)"
      ]
    },
    {
      "cell_type": "markdown",
      "metadata": {
        "id": "kU69VVaGCtWV"
      },
      "source": [
        "Lambda bisa memiliki lebih dari satu argumen atau parameter, tapi hanya bisa memiliki satu ekspresi atau isi."
      ]
    },
    {
      "cell_type": "code",
      "metadata": {
        "id": "xcn-0IAuCx4T"
      },
      "source": [
        "greeting = lambda name: print(f\"hello , {name}\")"
      ],
      "execution_count": null,
      "outputs": []
    },
    {
      "cell_type": "markdown",
      "metadata": {
        "id": "CX3_edfoC6IG"
      },
      "source": [
        "karena fungsi lambda tidak pounya nama jadi kita butuh variabel untuk menyimpannya.\n",
        "\n",
        "Nanti saat kita mau panggil kita tinggal tuliskan saja nama variabelnya seperti ini:"
      ]
    },
    {
      "cell_type": "code",
      "metadata": {
        "colab": {
          "base_uri": "https://localhost:8080/"
        },
        "id": "F8qImXIpC7cj",
        "outputId": "a761b6f0-d11c-4b8c-faf4-755fcf8a01eb"
      },
      "source": [
        "greeting(\"Dian\")\n",
        "greeting(\"Ayu\")"
      ],
      "execution_count": null,
      "outputs": [
        {
          "output_type": "stream",
          "name": "stdout",
          "text": [
            "hello , Dian\n",
            "hello , Ayu\n"
          ]
        }
      ]
    },
    {
      "cell_type": "markdown",
      "metadata": {
        "id": "lNH2RztWDZWU"
      },
      "source": [
        "Beberapa contoh penggunaan fungsi lambda "
      ]
    },
    {
      "cell_type": "code",
      "metadata": {
        "colab": {
          "base_uri": "https://localhost:8080/"
        },
        "id": "j_D_h_Z8DgQb",
        "outputId": "fee0027c-0478-4de8-ffd5-c1592988e090"
      },
      "source": [
        "#Fungsi lambda untuk menambahkan angka 10 kepada argumen input\n",
        "f = lambda x: x+10\n",
        "val1 = f(5)\n",
        "val2 = f(100)\n",
        "print(val1, val2)"
      ],
      "execution_count": null,
      "outputs": [
        {
          "output_type": "stream",
          "name": "stdout",
          "text": [
            "15 110\n"
          ]
        }
      ]
    },
    {
      "cell_type": "code",
      "metadata": {
        "colab": {
          "base_uri": "https://localhost:8080/"
        },
        "id": "iR4-YIIODkHK",
        "outputId": "3ae90357-6bbc-41cc-a043-30b875fd31c8"
      },
      "source": [
        "#Fungsi lambda untuk mengalikan dua argumen input dan menampilkan hasilnya\n",
        "f = lambda x,y: x*y\n",
        "val3 = f(2,10)\n",
        "val4 = f(7,5)\n",
        "print(val3, val4)"
      ],
      "execution_count": null,
      "outputs": [
        {
          "output_type": "stream",
          "name": "stdout",
          "text": [
            "20 35\n"
          ]
        }
      ]
    },
    {
      "cell_type": "markdown",
      "metadata": {
        "id": "CXk4J7J5DpSC"
      },
      "source": [
        "#Anonymous Function"
      ]
    },
    {
      "cell_type": "markdown",
      "metadata": {
        "id": "-1gT78LRDqU_"
      },
      "source": [
        "Karena lambda adalah anonymous function, ia akan bebas menggunakan nama apa saja. Dengan kata lain, fungsi lambda bisa disimpan di variabel manapun. Ini tentunya tidak bisa dilakukan oleh fungsi yang dibuat dengan def. Coba perhatikan ini :"
      ]
    },
    {
      "cell_type": "code",
      "metadata": {
        "colab": {
          "base_uri": "https://localhost:8080/",
          "height": 203
        },
        "id": "VLBJYcmIDwCQ",
        "outputId": "c46c2091-04ce-4d05-b2ac-b89da9a64145"
      },
      "source": [
        "def say_hello(nama):\n",
        "  print(f\"hello {name}, apa kabar ?\")\n",
        "\n",
        "ucapin = say_hello(name)"
      ],
      "execution_count": null,
      "outputs": [
        {
          "output_type": "error",
          "ename": "NameError",
          "evalue": "ignored",
          "traceback": [
            "\u001b[0;31m---------------------------------------------------------------------------\u001b[0m",
            "\u001b[0;31mNameError\u001b[0m                                 Traceback (most recent call last)",
            "\u001b[0;32m<ipython-input-7-5b884b03430a>\u001b[0m in \u001b[0;36m<module>\u001b[0;34m()\u001b[0m\n\u001b[1;32m      2\u001b[0m   \u001b[0mprint\u001b[0m\u001b[0;34m(\u001b[0m\u001b[0;34mf\"hello {name}, apa kabar ?\"\u001b[0m\u001b[0;34m)\u001b[0m\u001b[0;34m\u001b[0m\u001b[0;34m\u001b[0m\u001b[0m\n\u001b[1;32m      3\u001b[0m \u001b[0;34m\u001b[0m\u001b[0m\n\u001b[0;32m----> 4\u001b[0;31m \u001b[0mucapin\u001b[0m \u001b[0;34m=\u001b[0m \u001b[0msay_hello\u001b[0m\u001b[0;34m(\u001b[0m\u001b[0mname\u001b[0m\u001b[0;34m)\u001b[0m\u001b[0;34m\u001b[0m\u001b[0;34m\u001b[0m\u001b[0m\n\u001b[0m",
            "\u001b[0;31mNameError\u001b[0m: name 'name' is not defined"
          ]
        }
      ]
    },
    {
      "cell_type": "markdown",
      "metadata": {
        "id": "HgWxQGcODy66"
      },
      "source": [
        ""
      ]
    },
    {
      "cell_type": "markdown",
      "metadata": {
        "id": "HkpevWUxD2hi"
      },
      "source": [
        "saya mencoba membuat fungsi say_hello() dengan def, kemudianmenyimpannya kedalam variabel ucapin\n",
        "\n",
        "Tapi malah error!\n",
        "\n",
        "Ini karena fungsi tersebut bukanlah fungsi anonymous yang boleh diubah ubah namanya. \n",
        "\n",
        "Lalu coba perhatikan dibaris terakhir, fungsi lambda greeting() yang sudah dibuat  disimpan lagi ke variabel yang berbeda, yakni sapa."
      ]
    },
    {
      "cell_type": "code",
      "metadata": {
        "colab": {
          "base_uri": "https://localhost:8080/"
        },
        "id": "ewRjj48qD8PO",
        "outputId": "079b696b-3971-4d3b-f4df-d6a02fd4bd1a"
      },
      "source": [
        "greeting = lambda name: print(f\"hello, {name}\")\n",
        "sapa = greeting\n",
        "greeting(\"Andi\")\n",
        "sapa(\"Neli\")"
      ],
      "execution_count": null,
      "outputs": [
        {
          "output_type": "stream",
          "name": "stdout",
          "text": [
            "hello, Andi\n",
            "hello, Neli\n"
          ]
        }
      ]
    },
    {
      "cell_type": "markdown",
      "metadata": {
        "id": "CObuxhe6EBCZ"
      },
      "source": [
        "Hasilnya tidak error, karena ini adalah fungsi anonymous atau lambda."
      ]
    },
    {
      "cell_type": "markdown",
      "metadata": {
        "id": "cOFoBAA3ECim"
      },
      "source": [
        "#Eksekusi lambda secara langsung"
      ]
    },
    {
      "cell_type": "markdown",
      "metadata": {
        "id": "n4LIL9nsEGtB"
      },
      "source": [
        "Eksekusi lambda secara langsung kelebihan fungsi lambda dibandingkan def adalah bisa kita eksekusi langsung \n",
        "\n",
        "Contohnya :"
      ]
    },
    {
      "cell_type": "code",
      "metadata": {
        "colab": {
          "base_uri": "https://localhost:8080/"
        },
        "id": "KJrlmMnaELDY",
        "outputId": "a2601beb-a857-4181-9247-69a8463b7798"
      },
      "source": [
        "(lambda x,y: x**2 + y**2)(4,6)"
      ],
      "execution_count": null,
      "outputs": [
        {
          "output_type": "execute_result",
          "data": {
            "text/plain": [
              "52"
            ]
          },
          "metadata": {},
          "execution_count": 9
        }
      ]
    },
    {
      "cell_type": "markdown",
      "metadata": {
        "id": "S3rwAGehEkA_"
      },
      "source": [
        "Tanda kurung yang mengapit fungsi lambda artinya kita akan langsung mengeksekusi fungsi tersebut.\n",
        "\n",
        "Lalu kurung berikutnya akan berisi parameter.\n",
        "\n",
        "Angka 4 dan 6 adalah parameter x dan y yang akan diberikan kepada fungsi lambda.\n",
        "\n",
        "Maka kita akan langsung mendapat hasilnya, yakni: 42 + 62 = 52\n",
        "\n",
        "Hasil dari eksekusi ini bisa juga kita simpan ke dalam variabel."
      ]
    },
    {
      "cell_type": "code",
      "metadata": {
        "id": "O_sxQE8eElpy"
      },
      "source": [
        "hasil = (lambda x,y: x**2 + y**2)(4,6)"
      ],
      "execution_count": null,
      "outputs": []
    },
    {
      "cell_type": "markdown",
      "metadata": {
        "id": "mgU140vmEpnQ"
      },
      "source": [
        "#Mengapa Harus Pakai Lambda?"
      ]
    },
    {
      "cell_type": "markdown",
      "metadata": {
        "id": "tRRRkCTqE43v"
      },
      "source": [
        "Kita memang tidak harus selalu menggunakan lambda, tapi dalam kasus tertentu lambda lebih baik dibandingkan fungsi biasa.\n",
        "\n",
        "lambda biasanya dibutuhkan saat kita ingin membuat fungsi dalam satu baris.\n",
        "\n",
        "Biasanya saat menggunakan fungsi fungsi seperti ```filter()```,```map()```, dan ```reduce()``` kita akan membutuhkan lambda.\n",
        "\n",
        "mengapa?\n",
        "\n",
        "Karena fungsi fungsi tersebut membutuhkan parameter fungsi \n",
        "\n",
        "contoh :\n"
      ]
    },
    {
      "cell_type": "code",
      "metadata": {
        "colab": {
          "base_uri": "https://localhost:8080/"
        },
        "id": "FoM2_MpjE1m8",
        "outputId": "2ee39bf7-3724-4224-ad53-27eab2e656bb"
      },
      "source": [
        "bilangan = [10,2,8,7,5,4,3,11,0,1]\n",
        "filtered_result = map (lambda x: x*x, bilangan)\n",
        "print(list(filtered_result))"
      ],
      "execution_count": null,
      "outputs": [
        {
          "output_type": "stream",
          "name": "stdout",
          "text": [
            "[100, 4, 64, 49, 25, 16, 9, 121, 0, 1]\n"
          ]
        }
      ]
    },
    {
      "cell_type": "markdown",
      "metadata": {
        "id": "lJa8UdfXFml3"
      },
      "source": [
        "Pada fungsi map() kita memberikan parameter dengan fungsi lambda.\n",
        "\n",
        "Mengapa bisa begitu?\n",
        "\n",
        "Karena lambda bisa disimpan ke dalam variabel, otomatis dia akan bisa juga jadi parameter.\n",
        "\n",
        "Satu lagi contoh dengan fungsi filter():\n"
      ]
    },
    {
      "cell_type": "code",
      "metadata": {
        "colab": {
          "base_uri": "https://localhost:8080/"
        },
        "id": "H758KyBeFpeO",
        "outputId": "ad3be80d-82d9-48ee-894a-18c114d5e999"
      },
      "source": [
        "# menentukan bilangan genap\n",
        "genap = lambda x: x%2 == 0\n",
        "list(filter(genap, range(11)))"
      ],
      "execution_count": null,
      "outputs": [
        {
          "output_type": "execute_result",
          "data": {
            "text/plain": [
              "[0, 2, 4, 6, 8, 10]"
            ]
          },
          "metadata": {},
          "execution_count": 11
        }
      ]
    },
    {
      "cell_type": "markdown",
      "metadata": {
        "id": "7XHkZwrZFrwm"
      },
      "source": [
        "##Latihan"
      ]
    },
    {
      "cell_type": "markdown",
      "metadata": {
        "id": "7-jcMYd9F1ZP"
      },
      "source": [
        "1. Buatlah fungsi lambda untuk menghitung luas dari persegi panjang\n",
        "\n",
        "```\n",
        "*   input berupa variabel p dan l\n",
        "*   fungsi lambda disimpan dalam variabel 'Luas_Persegi_Panjang'\n",
        "*   Jika fungsi lambda dijalankan akan menghasilkan output \"Luas Persegi Panjang anda *(luasnya)* cm \" \n",
        "```\n",
        "\n"
      ]
    },
    {
      "cell_type": "code",
      "metadata": {
        "colab": {
          "base_uri": "https://localhost:8080/"
        },
        "id": "qbPb4P6PM9WK",
        "outputId": "6b7e5663-c6ad-43e4-fc15-06bc234afd29"
      },
      "source": [
        "# Jawab :\n",
        "Luas_Persegi_Panjang= lambda p,l: print(f\"Luas Persegi Panjang anda {p*l} cm\")\n",
        "Luas_Persegi_Panjang (3,4)"
      ],
      "execution_count": null,
      "outputs": [
        {
          "output_type": "stream",
          "name": "stdout",
          "text": [
            "Luas Persegi Panjang anda 12 cm\n"
          ]
        }
      ]
    },
    {
      "cell_type": "markdown",
      "metadata": {
        "id": "7DXkODQiF2kv"
      },
      "source": [
        "2. Buatlah fungsi lambda untuk menghitung luas dari segitiga\n",
        "\n",
        "\n",
        "```\n",
        "*   Input berupa variabel a dan t\n",
        "*   fungsi lambda disimpan dalam variabel 'Luas_Segitiga'\n",
        "*   Jika fungsi lambda dijalankan akan menghasilkan output \" Luas segitiga anda *(luasnya)* Cm \"\n",
        "```\n",
        "\n"
      ]
    },
    {
      "cell_type": "code",
      "metadata": {
        "colab": {
          "base_uri": "https://localhost:8080/"
        },
        "id": "J72hc0ZGF8zd",
        "outputId": "e8cb3c61-9ce1-42ab-d55f-74ea3d5c9a9d"
      },
      "source": [
        "# Jawab :\n",
        "Luas_Segitiga= lambda a,t: print(f\"Luas segitiga anda {1/2*(a*t)} cm\")\n",
        "Luas_Segitiga (3,4)"
      ],
      "execution_count": null,
      "outputs": [
        {
          "output_type": "stream",
          "name": "stdout",
          "text": [
            "Luas segitiga anda 6.0 cm\n"
          ]
        }
      ]
    }
  ]
}