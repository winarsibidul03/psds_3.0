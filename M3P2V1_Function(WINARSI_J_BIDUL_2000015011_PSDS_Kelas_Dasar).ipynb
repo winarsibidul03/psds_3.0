{
  "nbformat": 4,
  "nbformat_minor": 0,
  "metadata": {
    "colab": {
      "name": "M3P2V1_Function(WINARSI J. BIDUL 2000015011_PSDS Kelas Dasar).ipynb",
      "provenance": [],
      "collapsed_sections": [],
      "toc_visible": true,
      "include_colab_link": true
    },
    "kernelspec": {
      "display_name": "Python 3",
      "name": "python3"
    }
  },
  "cells": [
    {
      "cell_type": "markdown",
      "metadata": {
        "id": "view-in-github",
        "colab_type": "text"
      },
      "source": [
        "<a href=\"https://colab.research.google.com/github/winarsibidul03/psds_3.0/blob/main/M3P2V1_Function(WINARSI_J_BIDUL_2000015011_PSDS_Kelas_Dasar).ipynb\" target=\"_parent\"><img src=\"https://colab.research.google.com/assets/colab-badge.svg\" alt=\"Open In Colab\"/></a>"
      ]
    },
    {
      "cell_type": "markdown",
      "metadata": {
        "id": "ilhTB5vk729R"
      },
      "source": [
        "**NAMA : WINARSI J. BIDUL**\n",
        "\n",
        "**NIM : 2000015011**\n",
        "\n",
        "**KELAS DASAR**"
      ]
    },
    {
      "cell_type": "markdown",
      "metadata": {
        "id": "egFj71TQ74CX"
      },
      "source": [
        "#Function"
      ]
    },
    {
      "cell_type": "markdown",
      "metadata": {
        "id": "mexQRDnN8BFj"
      },
      "source": [
        "Function(Fungsi) adalah sebuah blok statement yang hanya  akan dijalankan saat ia dipanggil.\n",
        "\n",
        "Fungsi len() untuk mengukur jumlah elemen dalalm sebuah list dan fungsi print() untuk menampikan pesan pada layar konsol merupakan contoh dari bentuk fungsi yang telah disediakan oleh bahasa pemrograman Pythonatau dengan kata lain built-in functions. \n",
        "\n",
        "Selain fungsi yang telah disediakan oleh Python, Phyton mengizinkan untuk mendeklarasikan fungsi dalam kode yang dituliskan yang dikenal dengan user defined function\n",
        "\n",
        "```\n",
        "def nama_fungsi(argument):\n",
        "    statement_1\n",
        "    _\n",
        "    statement_n\n",
        "    return returned_value\n",
        "```\n",
        "\n",
        "* **nama_fungsi** adalah nama untuk fungsi yang anda definisikan, memiliki aturan seperti penamaan variabel.\n",
        "* **argument** adalah variabel yang dimasukan ke fungsi, bisa tanpa variabel, satu variabel atau lebih\n",
        "* **Statement_1** ... statement_n adalah algoritma yang telah anda transfer dalam bahasa Python yang merupakan inti dari fungsi yang anda definisikan. Seluruh statement adalah menjorok (indent) ke dalam seperti yang pernah anda pelajari pada conditioning dan looping.\n",
        "* **return_value** adalah variabel output dari fungsi Anda. bisa tanpa variabel, satu Variabel atau lebih."
      ]
    },
    {
      "cell_type": "markdown",
      "metadata": {
        "id": "WNdXKdaw8FXl"
      },
      "source": [
        "#Argumen dan Parameter"
      ]
    },
    {
      "cell_type": "markdown",
      "metadata": {
        "id": "wxiM-4wT8LVc"
      },
      "source": [
        "* **Parameter** adalah variabel yang digunakan dalam deklarasi fungsi.\n",
        "* **Argumen** adalah nilai yang diberikan saat pemanggilan fungsi\n"
      ]
    },
    {
      "cell_type": "code",
      "metadata": {
        "colab": {
          "base_uri": "https://localhost:8080/"
        },
        "id": "IFDD9QCL8Pqj",
        "outputId": "480adb4d-b401-4941-ce02-e1850855f4cd"
      },
      "source": [
        " def print_nama(nama):  #'nama' adalah parameter\n",
        "      print(nama)\n",
        "\n",
        "print_nama('Budi') # 'Budi' adalah argumen"
      ],
      "execution_count": null,
      "outputs": [
        {
          "output_type": "stream",
          "name": "stdout",
          "text": [
            "Budi\n"
          ]
        }
      ]
    },
    {
      "cell_type": "markdown",
      "metadata": {
        "id": "PaqEd2dB8WUq"
      },
      "source": [
        "#Argumen Posisi dan Kata Kunci"
      ]
    },
    {
      "cell_type": "markdown",
      "metadata": {
        "id": "-7Ogqz3N8Xgy"
      },
      "source": [
        "Kita bisa menyatakan argumen sebagai argumen posisi atau kata kunci. Beberapa manfaat argument kata kunci dapat berupa:\n",
        "\n",
        "* kita dapat menyebutkan argumen dengan nama mereka untuk memperjelas apa yang mereka wakili.\n",
        "* Kita dapat mengatur ulang argumen dengan acra yang membuatnya paling mudah dibaca."
      ]
    },
    {
      "cell_type": "code",
      "metadata": {
        "colab": {
          "base_uri": "https://localhost:8080/"
        },
        "id": "X2yhQzhh8d-v",
        "outputId": "65da0528-5ecc-4331-8d31-1388bf745bdb"
      },
      "source": [
        "def angka(a, b, c):\n",
        "    print(a, b, c)\n",
        "\n",
        "#Argumen posisi\n",
        "#Argumen berdasarkan posisinya\n",
        "angka(1, 2, 3)\n",
        "\n",
        "#Argumen berdasarkan kata kuncinya\n",
        "angka(a=1, b=2, c=3)\n",
        "angka(c=3, b=2, a=1)\n",
        "#Catatan : Jika sudah diberi kunci maka urutan tidak menjadi penting\n",
        "\n",
        "#Campuran antara Argumen posisi dan Argumen kata kunci\n",
        "angka(1, b=2, c=3)\n",
        "\n",
        "# Ini tidak diijinkan:\n",
        "# foo(1, b=2, 3) # Argumen posisional setelah argumen kunci\n",
        "# foo(1, b=2, a=3) # Terdapat dua nilai untuk argumen kunci 'a'"
      ],
      "execution_count": null,
      "outputs": [
        {
          "output_type": "stream",
          "name": "stdout",
          "text": [
            "1 2 3\n",
            "1 2 3\n",
            "1 2 3\n",
            "1 2 3\n"
          ]
        }
      ]
    },
    {
      "cell_type": "markdown",
      "metadata": {
        "id": "ZZu76Qxe8kr6"
      },
      "source": [
        "#Argumen Default"
      ]
    },
    {
      "cell_type": "markdown",
      "metadata": {
        "id": "KfVEGYVq8mY1"
      },
      "source": [
        "Fungsi dapat memiliki argumen default denga nilai yang telah ditentukan sebelumnya. Argumen ini dapat ditinggalkan dan nilai default kemudian diteruskan ke fungsi, atau argumen dapat dirubah dengan nilai yang berbeda. \n",
        "\n",
        "Perhatikan bahwa argumen default harus ditentukan sebagai **parameter terakhir** dalam suatu fungsi."
      ]
    },
    {
      "cell_type": "code",
      "metadata": {
        "colab": {
          "base_uri": "https://localhost:8080/"
        },
        "id": "FzUBSage8kUG",
        "outputId": "1b434370-c788-43ea-bf24-dcecad9da313"
      },
      "source": [
        "# Argumen default\n",
        "def angka2(a, b, c, d=4):\n",
        "    print(1, b, c, d)\n",
        "\n",
        "angka2(1, 2, 3, 4)\n",
        "angka2(1, b=2, c=3, d=100)\n",
        "\n",
        "#Argumen default harus diletakkan terakhir"
      ],
      "execution_count": null,
      "outputs": [
        {
          "output_type": "stream",
          "name": "stdout",
          "text": [
            "1 2 3 4\n",
            "1 2 3 100\n"
          ]
        }
      ]
    },
    {
      "cell_type": "markdown",
      "metadata": {
        "id": "vxIFBUmx8tWD"
      },
      "source": [
        "#Praktik Membuat Fungsi"
      ]
    },
    {
      "cell_type": "code",
      "metadata": {
        "colab": {
          "base_uri": "https://localhost:8080/"
        },
        "id": "Ml14XxbG8yQP",
        "outputId": "422bc2ab-6b0a-463e-80f1-38c0dc0eadb2"
      },
      "source": [
        "x = 1\n",
        "y = 2\n",
        "x*y"
      ],
      "execution_count": null,
      "outputs": [
        {
          "output_type": "execute_result",
          "data": {
            "text/plain": [
              "2"
            ]
          },
          "metadata": {},
          "execution_count": 4
        }
      ]
    },
    {
      "cell_type": "code",
      "metadata": {
        "colab": {
          "base_uri": "https://localhost:8080/"
        },
        "id": "yJWEi84786Sv",
        "outputId": "f75e7ceb-07a7-4c33-d7f3-470172b1a16b"
      },
      "source": [
        "def penjumlahan(x,y): #input\n",
        "  a=x+y               #proses\n",
        "  return a            #output\n",
        "\n",
        "penjumlahan(1, 2)     #menggunakan fungsi"
      ],
      "execution_count": null,
      "outputs": [
        {
          "output_type": "execute_result",
          "data": {
            "text/plain": [
              "3"
            ]
          },
          "metadata": {},
          "execution_count": 5
        }
      ]
    },
    {
      "cell_type": "markdown",
      "metadata": {
        "id": "FiyXSzK58-zs"
      },
      "source": [
        "**Penjumlahan yang memungkinkan untuk tiga bilangan**"
      ]
    },
    {
      "cell_type": "code",
      "metadata": {
        "colab": {
          "base_uri": "https://localhost:8080/"
        },
        "id": "xM6xno3u8_nq",
        "outputId": "d8a1a398-1835-4272-809a-a942bad95ae8"
      },
      "source": [
        "def penjumlahan(x,y,z=None):\n",
        "    if (z==None):\n",
        "        return x+y\n",
        "    else:\n",
        "        return x+y+z\n",
        "\n",
        "print(penjumlahan(1,2))\n",
        "print(penjumlahan(1,2,3))"
      ],
      "execution_count": null,
      "outputs": [
        {
          "output_type": "stream",
          "name": "stdout",
          "text": [
            "3\n",
            "6\n"
          ]
        }
      ]
    },
    {
      "cell_type": "markdown",
      "metadata": {
        "id": "xCrqdRn39Fw3"
      },
      "source": [
        "penyimpanan hasil fungsi dari variabel "
      ]
    },
    {
      "cell_type": "code",
      "metadata": {
        "colab": {
          "base_uri": "https://localhost:8080/"
        },
        "id": "Ag5ZFbZZ9Kav",
        "outputId": "439f46cd-44c9-45b7-f2f6-58b96bee24f5"
      },
      "source": [
        "def penjumlahan(x,y):\n",
        "  return x+y\n",
        "\n",
        "a = penjumlahan \n",
        "a(1,2)"
      ],
      "execution_count": null,
      "outputs": [
        {
          "output_type": "execute_result",
          "data": {
            "text/plain": [
              "3"
            ]
          },
          "metadata": {},
          "execution_count": 7
        }
      ]
    },
    {
      "cell_type": "markdown",
      "metadata": {
        "id": "DHrMOuFU9OBA"
      },
      "source": [
        "## Latihan 1"
      ]
    },
    {
      "cell_type": "markdown",
      "metadata": {
        "id": "_XCwucGR9PDu"
      },
      "source": [
        "buatlah function pythagoras dengan input argumennya panjang tinggi dan alas segitiga untuk menghasilkan output nilai panjang sisi miring."
      ]
    },
    {
      "cell_type": "code",
      "metadata": {
        "id": "k8UIRNaf9Wof",
        "colab": {
          "base_uri": "https://localhost:8080/"
        },
        "outputId": "07a5ba1e-d5db-4cbb-af88-7d7294ae1c12"
      },
      "source": [
        "def panjang_sisi_miring(x,y): #input\n",
        "    z = (x**2 + y**2)**(1/2)  #proses\n",
        "    return  z                 #output\n",
        "\n",
        "panjang_sisi_miring(3,4)"
      ],
      "execution_count": 1,
      "outputs": [
        {
          "output_type": "execute_result",
          "data": {
            "text/plain": [
              "5.0"
            ]
          },
          "metadata": {},
          "execution_count": 1
        }
      ]
    },
    {
      "cell_type": "markdown",
      "metadata": {
        "id": "VWUdpKWY9Yyh"
      },
      "source": [
        "## Latihan 2"
      ]
    },
    {
      "cell_type": "markdown",
      "metadata": {
        "id": "zLUwnLPO9bCX"
      },
      "source": [
        "Buatlah function luas permukaan balok dengan input argumennya panjang, lebar dan tinggi dari balok untuk mn=enghasilkan output nilai luas permukaan tersebut."
      ]
    },
    {
      "cell_type": "code",
      "metadata": {
        "id": "3wG5yCjV9cBq",
        "colab": {
          "base_uri": "https://localhost:8080/"
        },
        "outputId": "2533226c-ab83-4d8f-a3ee-873e7b438f56"
      },
      "source": [
        "def panjang_sisi_miring(p,l,t): #input\n",
        "    L = 2*((p*l)+(p*t)+(t*l)) #proses\n",
        "    return  L                 #output\n",
        "\n",
        "panjang_sisi_miring(15,10,5)"
      ],
      "execution_count": 2,
      "outputs": [
        {
          "output_type": "execute_result",
          "data": {
            "text/plain": [
              "550"
            ]
          },
          "metadata": {},
          "execution_count": 2
        }
      ]
    }
  ]
}